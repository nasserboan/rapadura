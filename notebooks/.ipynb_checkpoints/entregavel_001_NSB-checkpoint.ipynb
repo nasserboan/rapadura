{
 "cells": [
  {
   "cell_type": "code",
   "execution_count": 1,
   "id": "4fc186f7-24f3-4f05-a321-1ded8875e509",
   "metadata": {},
   "outputs": [],
   "source": [
    "import pandas as pd\n",
    "import matplotlib.pyplot as plt"
   ]
  },
  {
   "cell_type": "markdown",
   "id": "4f7b5dcf-ec97-4ad8-bc0a-55e4bbb9dfb5",
   "metadata": {},
   "source": [
    "# Primeiro Entregável"
   ]
  },
  {
   "cell_type": "markdown",
   "id": "d2ac7a98-83e4-4d8e-84d1-951ff12fe546",
   "metadata": {},
   "source": [
    "O primeiro entregável desse cenário deve ser um relatório relatando algumas das anomalias encontradas e investigações possíveis (falamos que aqui encorajamos gente curiosa, certo?!). Para feitura desse relatório vocês podem utilizar quaisquer ferramentas de modelagem ou visualização de dados (sugerimos começar com um EDA via pandas, visualizações via matplotlib/seaborn etc).\n",
    "\n",
    "O dataset a ser utilizado nesse cenário (.zip com arquivo CSV) você encontra <a href=\"https://drive.google.com/file/d/1a8UCbzXFbqTQi0x8tqCXPRTlB--E7o8I/view?usp=sharing\">aqui</a>.\n",
    "\n",
    "Temos um apreço muito grande por trabalhos por análises que levantem as hipóteses mais importantes para nosso processo de pré vendas. Sendo assim, é bom contarmos com métricas para nos previnir e alertar sobre quaisquer problemas bem como monitorar as arquitetura proposta. Logo, apreciamos se você conseguir apontar também possíveis KPIs ou fornecer insights que possam melhorar o acompanhamento do processo da empresa desse primeiro cenário.\n"
   ]
  },
  {
   "cell_type": "markdown",
   "id": "16b5b626-c0a1-468c-9e3f-e5eac3354afa",
   "metadata": {},
   "source": [
    "## Dados\n",
    "\n",
    "| Table            | Total Rows | Total Columns                                              |\n",
    "| -----------------|:--------:  | :---------------------------------------------------------:|\n",
    "| Orders           | 9994       | 21                                                         |\n",
    "| People           | 4          | 2                                                          |\n",
    "| Returns          | 296        | 2                                                          |"
   ]
  },
  {
   "cell_type": "code",
   "execution_count": 23,
   "id": "14bfe97d-9839-4b4f-8861-ed4d905bd976",
   "metadata": {},
   "outputs": [
    {
     "data": {
      "text/html": [
       "<div>\n",
       "<style scoped>\n",
       "    .dataframe tbody tr th:only-of-type {\n",
       "        vertical-align: middle;\n",
       "    }\n",
       "\n",
       "    .dataframe tbody tr th {\n",
       "        vertical-align: top;\n",
       "    }\n",
       "\n",
       "    .dataframe thead th {\n",
       "        text-align: right;\n",
       "    }\n",
       "</style>\n",
       "<table border=\"1\" class=\"dataframe\">\n",
       "  <thead>\n",
       "    <tr style=\"text-align: right;\">\n",
       "      <th></th>\n",
       "      <th>row_id</th>\n",
       "      <th>order_id</th>\n",
       "      <th>order_date</th>\n",
       "      <th>ship_date</th>\n",
       "      <th>ship_mode</th>\n",
       "      <th>customer_id</th>\n",
       "      <th>customer_name</th>\n",
       "      <th>segment</th>\n",
       "      <th>country</th>\n",
       "      <th>city</th>\n",
       "      <th>...</th>\n",
       "      <th>postal_code</th>\n",
       "      <th>region</th>\n",
       "      <th>product_id</th>\n",
       "      <th>category</th>\n",
       "      <th>sub-category</th>\n",
       "      <th>product_name</th>\n",
       "      <th>sales</th>\n",
       "      <th>quantity</th>\n",
       "      <th>discount</th>\n",
       "      <th>profit</th>\n",
       "    </tr>\n",
       "  </thead>\n",
       "  <tbody>\n",
       "    <tr>\n",
       "      <th>0</th>\n",
       "      <td>1</td>\n",
       "      <td>CA-2016-152156</td>\n",
       "      <td>2016-11-08</td>\n",
       "      <td>2016-11-11</td>\n",
       "      <td>Second Class</td>\n",
       "      <td>CG-12520</td>\n",
       "      <td>Claire Gute</td>\n",
       "      <td>Consumer</td>\n",
       "      <td>United States</td>\n",
       "      <td>Henderson</td>\n",
       "      <td>...</td>\n",
       "      <td>42420</td>\n",
       "      <td>South</td>\n",
       "      <td>FUR-BO-10001798</td>\n",
       "      <td>Furniture</td>\n",
       "      <td>Bookcases</td>\n",
       "      <td>Bush Somerset Collection Bookcase</td>\n",
       "      <td>261.96</td>\n",
       "      <td>2</td>\n",
       "      <td>0.0</td>\n",
       "      <td>41.9136</td>\n",
       "    </tr>\n",
       "    <tr>\n",
       "      <th>1</th>\n",
       "      <td>2</td>\n",
       "      <td>CA-2016-152156</td>\n",
       "      <td>2016-11-08</td>\n",
       "      <td>2016-11-11</td>\n",
       "      <td>Second Class</td>\n",
       "      <td>CG-12520</td>\n",
       "      <td>Claire Gute</td>\n",
       "      <td>Consumer</td>\n",
       "      <td>United States</td>\n",
       "      <td>Henderson</td>\n",
       "      <td>...</td>\n",
       "      <td>42420</td>\n",
       "      <td>South</td>\n",
       "      <td>FUR-CH-10000454</td>\n",
       "      <td>Furniture</td>\n",
       "      <td>Chairs</td>\n",
       "      <td>Hon Deluxe Fabric Upholstered Stacking Chairs,...</td>\n",
       "      <td>731.94</td>\n",
       "      <td>3</td>\n",
       "      <td>0.0</td>\n",
       "      <td>219.5820</td>\n",
       "    </tr>\n",
       "  </tbody>\n",
       "</table>\n",
       "<p>2 rows × 21 columns</p>\n",
       "</div>"
      ],
      "text/plain": [
       "   row_id        order_id order_date  ship_date     ship_mode customer_id  \\\n",
       "0       1  CA-2016-152156 2016-11-08 2016-11-11  Second Class    CG-12520   \n",
       "1       2  CA-2016-152156 2016-11-08 2016-11-11  Second Class    CG-12520   \n",
       "\n",
       "  customer_name   segment        country       city  ... postal_code  region  \\\n",
       "0   Claire Gute  Consumer  United States  Henderson  ...       42420   South   \n",
       "1   Claire Gute  Consumer  United States  Henderson  ...       42420   South   \n",
       "\n",
       "        product_id   category sub-category  \\\n",
       "0  FUR-BO-10001798  Furniture    Bookcases   \n",
       "1  FUR-CH-10000454  Furniture       Chairs   \n",
       "\n",
       "                                        product_name   sales  quantity  \\\n",
       "0                  Bush Somerset Collection Bookcase  261.96         2   \n",
       "1  Hon Deluxe Fabric Upholstered Stacking Chairs,...  731.94         3   \n",
       "\n",
       "   discount    profit  \n",
       "0       0.0   41.9136  \n",
       "1       0.0  219.5820  \n",
       "\n",
       "[2 rows x 21 columns]"
      ]
     },
     "metadata": {},
     "output_type": "display_data"
    },
    {
     "data": {
      "text/html": [
       "<div>\n",
       "<style scoped>\n",
       "    .dataframe tbody tr th:only-of-type {\n",
       "        vertical-align: middle;\n",
       "    }\n",
       "\n",
       "    .dataframe tbody tr th {\n",
       "        vertical-align: top;\n",
       "    }\n",
       "\n",
       "    .dataframe thead th {\n",
       "        text-align: right;\n",
       "    }\n",
       "</style>\n",
       "<table border=\"1\" class=\"dataframe\">\n",
       "  <thead>\n",
       "    <tr style=\"text-align: right;\">\n",
       "      <th></th>\n",
       "      <th>person</th>\n",
       "      <th>region</th>\n",
       "    </tr>\n",
       "  </thead>\n",
       "  <tbody>\n",
       "    <tr>\n",
       "      <th>0</th>\n",
       "      <td>Anna Andreadi</td>\n",
       "      <td>West</td>\n",
       "    </tr>\n",
       "    <tr>\n",
       "      <th>1</th>\n",
       "      <td>Chuck Magee</td>\n",
       "      <td>East</td>\n",
       "    </tr>\n",
       "  </tbody>\n",
       "</table>\n",
       "</div>"
      ],
      "text/plain": [
       "          person region\n",
       "0  Anna Andreadi   West\n",
       "1    Chuck Magee   East"
      ]
     },
     "metadata": {},
     "output_type": "display_data"
    },
    {
     "data": {
      "text/html": [
       "<div>\n",
       "<style scoped>\n",
       "    .dataframe tbody tr th:only-of-type {\n",
       "        vertical-align: middle;\n",
       "    }\n",
       "\n",
       "    .dataframe tbody tr th {\n",
       "        vertical-align: top;\n",
       "    }\n",
       "\n",
       "    .dataframe thead th {\n",
       "        text-align: right;\n",
       "    }\n",
       "</style>\n",
       "<table border=\"1\" class=\"dataframe\">\n",
       "  <thead>\n",
       "    <tr style=\"text-align: right;\">\n",
       "      <th></th>\n",
       "      <th>returned</th>\n",
       "      <th>order_id</th>\n",
       "    </tr>\n",
       "  </thead>\n",
       "  <tbody>\n",
       "    <tr>\n",
       "      <th>0</th>\n",
       "      <td>Yes</td>\n",
       "      <td>CA-2017-153822</td>\n",
       "    </tr>\n",
       "    <tr>\n",
       "      <th>1</th>\n",
       "      <td>Yes</td>\n",
       "      <td>CA-2017-129707</td>\n",
       "    </tr>\n",
       "  </tbody>\n",
       "</table>\n",
       "</div>"
      ],
      "text/plain": [
       "  returned        order_id\n",
       "0      Yes  CA-2017-153822\n",
       "1      Yes  CA-2017-129707"
      ]
     },
     "metadata": {},
     "output_type": "display_data"
    }
   ],
   "source": [
    "## carregando o dataset\n",
    "\n",
    "data_url = '../data/01_raw/sample.xls'\n",
    "\n",
    "orders = pd.read_excel(data_url, sheet_name='Orders')\n",
    "people = pd.read_excel(data_url, sheet_name='People')\n",
    "returns = pd.read_excel(data_url, sheet_name='Returns')\n",
    "\n",
    "for dataset in [orders,people,returns]:\n",
    "    dataset.columns = [c.lower().replace(' ','_') for c in dataset.columns]\n",
    "\n",
    "display(orders.head(2))\n",
    "display(people.head(2))\n",
    "display(returns.head(2))"
   ]
  },
  {
   "cell_type": "markdown",
   "id": "ed35b3bb-46dc-4c7b-90f2-eada0d7bad0e",
   "metadata": {},
   "source": [
    "## Validações\n",
    "\n",
    "1. Todas as vendas gravadas em 'orders' são únicas;\n",
    "2. Todas as pessoas em gravadas em 'people' tem pelo menos 1 compra gravada em 'orders'.\n",
    "3. Todas as devoluções em 'return' são únicas;\n",
    "4. Todas as devoluções gravadas em 'returns' também estão em 'orders', ou seja, não há devoluções sem compra prévia;\n",
    "5. Os campos 'sales' e 'quantity' da base 'orders' não podem ser negativos;\n",
    "6. O campo 'ship_date' deve ser maior que 'order_date' na base 'orders'."
   ]
  },
  {
   "cell_type": "markdown",
   "id": "b42fd0a3-7fa0-4638-b32c-74f367669a27",
   "metadata": {},
   "source": [
    "### 1. Todas as vendas gravadas em 'orders' são únicas;"
   ]
  },
  {
   "cell_type": "code",
   "execution_count": 72,
   "id": "bd0b2e73-1f8e-4cb9-b776-ef517e777429",
   "metadata": {},
   "outputs": [
    {
     "data": {
      "text/plain": [
       "False"
      ]
     },
     "execution_count": 72,
     "metadata": {},
     "output_type": "execute_result"
    }
   ],
   "source": [
    "(\n",
    "    orders.\n",
    "    order_id\n",
    "    .nunique()\n",
    ") == orders.shape[0]"
   ]
  },
  {
   "cell_type": "markdown",
   "id": "3b87d9e4-2336-4218-86fe-f6c78b02818f",
   "metadata": {},
   "source": [
    "Dado que a quantidade de linhas da base 'orders' é diferente da quantidade de valores únicos da coluna 'order_id' podemos entender que existe a possibilidade de várias linhas com a mesma 'order_id', caracterizando produtos diferentes em um mesmo pedido. Ou seja, a granularidade da base 'orders' é produto-pedido, ou seja, cada linha representa um produto diferente em um pedido."
   ]
  },
  {
   "cell_type": "code",
   "execution_count": 73,
   "id": "6b948e32-5d02-4b6e-980f-6e4a1f42c0b7",
   "metadata": {
    "jupyter": {
     "source_hidden": true
    }
   },
   "outputs": [
    {
     "data": {
      "image/png": "[encoded data removed]",
      "text/plain": [
       "<Figure size 2000x400 with 2 Axes>"
      ]
     },
     "metadata": {},
     "output_type": "display_data"
    }
   ],
   "source": [
    "f, ax = plt.subplots(1,2,figsize=(20,4))\n",
    "\n",
    "(\n",
    "    orders\n",
    "    .order_id\n",
    "    .value_counts()\n",
    "    .nlargest(10)\n",
    "    .plot(kind='bar', ax=ax[0])\n",
    ")\n",
    "\n",
    "(\n",
    "    orders\n",
    "    .order_id\n",
    "    .value_counts() ## contando quantos produtos diferentes temos em cada pedido\n",
    "    .value_counts(normalize=True) ## contando os tamanhos comuns da cesta de produtos\n",
    "    .plot(kind='bar', ax=ax[1])\n",
    ")\n",
    "\n",
    "\n",
    "for chart, title in enumerate(['Maiores cestas de compra','Tamanhos comuns de cesta de compra']):\n",
    "    ax[chart].spines['right'].set_visible(False)\n",
    "    ax[chart].spines['top'].set_visible(False)\n",
    "    ax[chart].set_title(title)"
   ]
  },
  {
   "cell_type": "code",
   "execution_count": 74,
   "id": "7b3d6762-6076-4194-8ea2-8d816052c276",
   "metadata": {},
   "outputs": [
    {
     "data": {
      "text/plain": [
       "14"
      ]
     },
     "metadata": {},
     "output_type": "display_data"
    }
   ],
   "source": [
    "## conferindo a diversidade do pedido\n",
    "display(orders[orders.order_id == 'CA-2017-100111'].product_id.nunique())"
   ]
  },
  {
   "cell_type": "markdown",
   "id": "4d8fa66b-13c1-4ffa-8317-a6faffeee4a5",
   "metadata": {},
   "source": [
    "O pedido mais diverso ('CA-2017-100111') tem 14 produtos diferentes. Porém, compras com somente um item são bem mais comuns. Para respondermos com certeza que cada linha é única agora basta procurar se há linhas totalmente duplicadas."
   ]
  },
  {
   "cell_type": "code",
   "execution_count": 75,
   "id": "cab4a02b-36dc-451e-8604-ed4416e4eb5f",
   "metadata": {},
   "outputs": [
    {
     "data": {
      "text/plain": [
       "0"
      ]
     },
     "metadata": {},
     "output_type": "display_data"
    },
    {
     "data": {
      "text/plain": [
       "16"
      ]
     },
     "metadata": {},
     "output_type": "display_data"
    }
   ],
   "source": [
    "## conferindo se existem linhas totalmente replicadas\n",
    "display(orders.duplicated().sum())\n",
    "\n",
    "## conferindo se existem linhas totalmente replicadas com subset orderId=product_id\n",
    "display(orders.duplicated(subset=['order_id','product_id'],keep=False).sum())"
   ]
  },
  {
   "cell_type": "code",
   "execution_count": 76,
   "id": "da44875d-2c6f-44f7-842b-df99659edfe7",
   "metadata": {},
   "outputs": [
    {
     "data": {
      "text/plain": [
       "row_id                           351\n",
       "order_id              CA-2016-129714\n",
       "order_date       2016-09-01 00:00:00\n",
       "ship_date        2016-09-03 00:00:00\n",
       "ship_mode                First Class\n",
       "customer_id                 AB-10060\n",
       "customer_name        Adam Bellavance\n",
       "segment                  Home Office\n",
       "country                United States\n",
       "city                   New York City\n",
       "state                       New York\n",
       "postal_code                    10009\n",
       "region                          East\n",
       "product_id           OFF-PA-10001970\n",
       "category             Office Supplies\n",
       "sub-category                   Paper\n",
       "product_name              Xerox 1881\n",
       "sales                          24.56\n",
       "quantity                           2\n",
       "discount                         0.0\n",
       "profit                       11.5432\n",
       "Name: 350, dtype: object"
      ]
     },
     "execution_count": 76,
     "metadata": {},
     "output_type": "execute_result"
    }
   ],
   "source": [
    "orders[orders.duplicated(subset=['order_id','product_id'],keep=False)].iloc[0]"
   ]
  },
  {
   "cell_type": "code",
   "execution_count": 77,
   "id": "b104ccec-462c-4fc1-bf47-b906f5cf4f2f",
   "metadata": {},
   "outputs": [
    {
     "data": {
      "text/plain": [
       "row_id                           353\n",
       "order_id              CA-2016-129714\n",
       "order_date       2016-09-01 00:00:00\n",
       "ship_date        2016-09-03 00:00:00\n",
       "ship_mode                First Class\n",
       "customer_id                 AB-10060\n",
       "customer_name        Adam Bellavance\n",
       "segment                  Home Office\n",
       "country                United States\n",
       "city                   New York City\n",
       "state                       New York\n",
       "postal_code                    10009\n",
       "region                          East\n",
       "product_id           OFF-PA-10001970\n",
       "category             Office Supplies\n",
       "sub-category                   Paper\n",
       "product_name              Xerox 1881\n",
       "sales                          49.12\n",
       "quantity                           4\n",
       "discount                         0.0\n",
       "profit                       23.0864\n",
       "Name: 352, dtype: object"
      ]
     },
     "execution_count": 77,
     "metadata": {},
     "output_type": "execute_result"
    }
   ],
   "source": [
    "orders[orders.duplicated(subset=['order_id','product_id'],keep=False)].iloc[1]"
   ]
  },
  {
   "cell_type": "markdown",
   "id": "65f6f64d-f2f9-49f7-94df-47e76ed96b17",
   "metadata": {},
   "source": [
    "Dados que existem linhas com vendas para mesmo cliente, mesmo produto e mesmo pedido, porém com quantidades e valores diferentes vamos criar uma expectativa de que pelo menos 99.9% da base precisa ser única (e não 100%)."
   ]
  },
  {
   "cell_type": "markdown",
   "id": "fe960b9a-5f65-443d-9005-3c429b4b6e12",
   "metadata": {},
   "source": [
    "### 2. Todas as pessoas em gravadas em 'people' tem pelo menos 1 compra gravada em 'orders'."
   ]
  },
  {
   "cell_type": "code",
   "execution_count": 98,
   "id": "971a30c9-9dc7-4269-a919-38a27c3f3f79",
   "metadata": {},
   "outputs": [
    {
     "data": {
      "text/html": [
       "<div>\n",
       "<style scoped>\n",
       "    .dataframe tbody tr th:only-of-type {\n",
       "        vertical-align: middle;\n",
       "    }\n",
       "\n",
       "    .dataframe tbody tr th {\n",
       "        vertical-align: top;\n",
       "    }\n",
       "\n",
       "    .dataframe thead th {\n",
       "        text-align: right;\n",
       "    }\n",
       "</style>\n",
       "<table border=\"1\" class=\"dataframe\">\n",
       "  <thead>\n",
       "    <tr style=\"text-align: right;\">\n",
       "      <th></th>\n",
       "      <th>person</th>\n",
       "      <th>region</th>\n",
       "    </tr>\n",
       "  </thead>\n",
       "  <tbody>\n",
       "    <tr>\n",
       "      <th>0</th>\n",
       "      <td>Anna Andreadi</td>\n",
       "      <td>West</td>\n",
       "    </tr>\n",
       "    <tr>\n",
       "      <th>1</th>\n",
       "      <td>Chuck Magee</td>\n",
       "      <td>East</td>\n",
       "    </tr>\n",
       "    <tr>\n",
       "      <th>2</th>\n",
       "      <td>Kelly Williams</td>\n",
       "      <td>Central</td>\n",
       "    </tr>\n",
       "    <tr>\n",
       "      <th>3</th>\n",
       "      <td>Cassandra Brandow</td>\n",
       "      <td>South</td>\n",
       "    </tr>\n",
       "  </tbody>\n",
       "</table>\n",
       "</div>"
      ],
      "text/plain": [
       "              person   region\n",
       "0      Anna Andreadi     West\n",
       "1        Chuck Magee     East\n",
       "2     Kelly Williams  Central\n",
       "3  Cassandra Brandow    South"
      ]
     },
     "metadata": {},
     "output_type": "display_data"
    },
    {
     "data": {
      "text/html": [
       "<div>\n",
       "<style scoped>\n",
       "    .dataframe tbody tr th:only-of-type {\n",
       "        vertical-align: middle;\n",
       "    }\n",
       "\n",
       "    .dataframe tbody tr th {\n",
       "        vertical-align: top;\n",
       "    }\n",
       "\n",
       "    .dataframe thead th {\n",
       "        text-align: right;\n",
       "    }\n",
       "</style>\n",
       "<table border=\"1\" class=\"dataframe\">\n",
       "  <thead>\n",
       "    <tr style=\"text-align: right;\">\n",
       "      <th></th>\n",
       "      <th>customer_name</th>\n",
       "      <th>customer_id</th>\n",
       "      <th>region</th>\n",
       "      <th>person</th>\n",
       "    </tr>\n",
       "  </thead>\n",
       "  <tbody>\n",
       "    <tr>\n",
       "      <th>0</th>\n",
       "      <td>Anna Andreadi</td>\n",
       "      <td>AA-10645</td>\n",
       "      <td>West</td>\n",
       "      <td>Anna Andreadi</td>\n",
       "    </tr>\n",
       "    <tr>\n",
       "      <th>1</th>\n",
       "      <td>Anna Andreadi</td>\n",
       "      <td>AA-10645</td>\n",
       "      <td>West</td>\n",
       "      <td>Anna Andreadi</td>\n",
       "    </tr>\n",
       "    <tr>\n",
       "      <th>2</th>\n",
       "      <td>Anna Andreadi</td>\n",
       "      <td>AA-10645</td>\n",
       "      <td>West</td>\n",
       "      <td>Anna Andreadi</td>\n",
       "    </tr>\n",
       "    <tr>\n",
       "      <th>3</th>\n",
       "      <td>Anna Andreadi</td>\n",
       "      <td>AA-10645</td>\n",
       "      <td>West</td>\n",
       "      <td>Anna Andreadi</td>\n",
       "    </tr>\n",
       "    <tr>\n",
       "      <th>4</th>\n",
       "      <td>Anna Andreadi</td>\n",
       "      <td>AA-10645</td>\n",
       "      <td>West</td>\n",
       "      <td>Anna Andreadi</td>\n",
       "    </tr>\n",
       "    <tr>\n",
       "      <th>5</th>\n",
       "      <td>NaN</td>\n",
       "      <td>NaN</td>\n",
       "      <td>East</td>\n",
       "      <td>Chuck Magee</td>\n",
       "    </tr>\n",
       "    <tr>\n",
       "      <th>6</th>\n",
       "      <td>Kelly Williams</td>\n",
       "      <td>KW-16570</td>\n",
       "      <td>Central</td>\n",
       "      <td>Kelly Williams</td>\n",
       "    </tr>\n",
       "    <tr>\n",
       "      <th>7</th>\n",
       "      <td>Kelly Williams</td>\n",
       "      <td>KW-16570</td>\n",
       "      <td>Central</td>\n",
       "      <td>Kelly Williams</td>\n",
       "    </tr>\n",
       "    <tr>\n",
       "      <th>8</th>\n",
       "      <td>Cassandra Brandow</td>\n",
       "      <td>CB-12025</td>\n",
       "      <td>South</td>\n",
       "      <td>Cassandra Brandow</td>\n",
       "    </tr>\n",
       "    <tr>\n",
       "      <th>9</th>\n",
       "      <td>Cassandra Brandow</td>\n",
       "      <td>CB-12025</td>\n",
       "      <td>South</td>\n",
       "      <td>Cassandra Brandow</td>\n",
       "    </tr>\n",
       "  </tbody>\n",
       "</table>\n",
       "</div>"
      ],
      "text/plain": [
       "       customer_name customer_id   region             person\n",
       "0      Anna Andreadi    AA-10645     West      Anna Andreadi\n",
       "1      Anna Andreadi    AA-10645     West      Anna Andreadi\n",
       "2      Anna Andreadi    AA-10645     West      Anna Andreadi\n",
       "3      Anna Andreadi    AA-10645     West      Anna Andreadi\n",
       "4      Anna Andreadi    AA-10645     West      Anna Andreadi\n",
       "5                NaN         NaN     East        Chuck Magee\n",
       "6     Kelly Williams    KW-16570  Central     Kelly Williams\n",
       "7     Kelly Williams    KW-16570  Central     Kelly Williams\n",
       "8  Cassandra Brandow    CB-12025    South  Cassandra Brandow\n",
       "9  Cassandra Brandow    CB-12025    South  Cassandra Brandow"
      ]
     },
     "execution_count": 98,
     "metadata": {},
     "output_type": "execute_result"
    }
   ],
   "source": [
    "display(people)\n",
    "\n",
    "(\n",
    "    orders[['customer_name','customer_id','region']]\n",
    "    .merge(people, left_on=['customer_name','region'], right_on=['person','region'], how='right')\n",
    "    # .groupby('person')\n",
    "    # .customer_name\n",
    "    # .count()\n",
    ")"
   ]
  },
  {
   "cell_type": "code",
   "execution_count": 99,
   "id": "e6b017fe-d5af-4a7b-98ed-b12fb36099ae",
   "metadata": {},
   "outputs": [
    {
     "data": {
      "text/plain": [
       "person\n",
       "Anna Andreadi        5\n",
       "Cassandra Brandow    2\n",
       "Chuck Magee          0\n",
       "Kelly Williams       2\n",
       "Name: customer_name, dtype: int64"
      ]
     },
     "execution_count": 99,
     "metadata": {},
     "output_type": "execute_result"
    }
   ],
   "source": [
    "(\n",
    "    orders[['customer_name','customer_id','region']]\n",
    "    .merge(people, left_on=['customer_name','region'], right_on=['person','region'], how='right')\n",
    "    .groupby('person')\n",
    "    .customer_name\n",
    "    .count()\n",
    ")"
   ]
  },
  {
   "cell_type": "markdown",
   "id": "28ac325c-502c-4594-8024-e48f7bed9512",
   "metadata": {},
   "source": [
    "A implementação acima demonstra uma forma simples de delimitar se uma pessoa em 'people' não está em 'orders' levando em consideração que só será considerada como única a pessoa que tiver o mesmo nome e estiver cadastrada na mesma região. Além disso, é recomendado que a tabela people tenha a coluna 'customer_id' para evitar o problema com homônimos. Por falta de informação de negócio não irei criar, nesse momento, uma expectativa para a base."
   ]
  },
  {
   "cell_type": "markdown",
   "id": "2955b349-1e5c-40f1-8248-b7e80783f2ac",
   "metadata": {},
   "source": [
    "### 3. Todas as devoluções em 'return' são únicas;\n",
    "### 4. Todas as devoluções gravadas em 'returns' também estão em 'orders', ou seja, não há devoluções sem compra prévia;"
   ]
  },
  {
   "cell_type": "code",
   "execution_count": 111,
   "id": "1e1de03b-0cd7-4be1-ae65-28d75a07eec3",
   "metadata": {},
   "outputs": [
    {
     "data": {
      "text/plain": [
       "True"
      ]
     },
     "execution_count": 111,
     "metadata": {},
     "output_type": "execute_result"
    }
   ],
   "source": [
    "returns.order_id.nunique() == returns.shape[0]"
   ]
  },
  {
   "cell_type": "code",
   "execution_count": 112,
   "id": "c2addb06-546a-43ef-8ab2-4e27f5c32d64",
   "metadata": {},
   "outputs": [
    {
     "data": {
      "text/plain": [
       "True"
      ]
     },
     "execution_count": 112,
     "metadata": {},
     "output_type": "execute_result"
    }
   ],
   "source": [
    "returns.order_id.isin(orders.order_id).all()"
   ]
  },
  {
   "cell_type": "code",
   "execution_count": 118,
   "id": "ffa35d7c-c53b-4186-9020-de85ac51bc9d",
   "metadata": {},
   "outputs": [
    {
     "data": {
      "text/plain": [
       "order_id\n",
       "CA-2017-161557     1\n",
       "CA-2017-145128     1\n",
       "CA-2017-150609     1\n",
       "CA-2016-124527     1\n",
       "CA-2016-123526     1\n",
       "                  ..\n",
       "US-2017-118087     8\n",
       "CA-2017-161956     8\n",
       "CA-2015-164882     9\n",
       "CA-2016-165330    11\n",
       "CA-2017-100111    14\n",
       "Name: product_id, Length: 296, dtype: int64"
      ]
     },
     "execution_count": 118,
     "metadata": {},
     "output_type": "execute_result"
    }
   ],
   "source": [
    "(\n",
    "    orders[orders.order_id.isin(returns.order_id.unique())]\n",
    "    .groupby(['order_id'])\n",
    "    .product_id\n",
    "    .count()\n",
    "    .sort_values()\n",
    ")"
   ]
  },
  {
   "cell_type": "markdown",
   "id": "66adfabe-f686-4f8e-a0b6-f557dbdc95aa",
   "metadata": {},
   "source": [
    "As implementações acima demonstram que as devoluções são únicas e que todas estão na tabela 'orders', ou seja, não existem devoluções duplicadas e que todas se referem a alguma compra feita anteriormente. Porém, não há informação o suficiente para entender se a devolução feita foi do pedido inteiro ou somente de um dos produtos do pedido visto que existem pedidos devolvidos que tinham mais de um produto."
   ]
  },
  {
   "cell_type": "markdown",
   "id": "0e5f972b-663a-467c-9ea4-325ee5e2bd44",
   "metadata": {},
   "source": [
    "### 5. Os campos 'sales' e 'quantity' da base 'orders' não podem ser negativos;"
   ]
  },
  {
   "cell_type": "code",
   "execution_count": 120,
   "id": "24995495-4e9b-48b9-83bb-71743cf469b6",
   "metadata": {},
   "outputs": [
    {
     "data": {
      "text/plain": [
       "True"
      ]
     },
     "execution_count": 120,
     "metadata": {},
     "output_type": "execute_result"
    }
   ],
   "source": [
    "(orders.sales > 0).all()"
   ]
  },
  {
   "cell_type": "code",
   "execution_count": 126,
   "id": "1b18ce2a-4899-4212-bc47-38d90c93b2bb",
   "metadata": {},
   "outputs": [
    {
     "data": {
      "text/plain": [
       "True"
      ]
     },
     "execution_count": 126,
     "metadata": {},
     "output_type": "execute_result"
    }
   ],
   "source": [
    "(orders.quantity > 0).all()"
   ]
  },
  {
   "cell_type": "markdown",
   "id": "5791dd18-df9e-4847-a1b0-a895ae06c790",
   "metadata": {},
   "source": [
    "### 6. O campo 'ship_date' deve ser maior que 'order_date' na base 'orders'."
   ]
  },
  {
   "cell_type": "code",
   "execution_count": 146,
   "id": "9a65562f-65c1-4b6a-95f1-f54d30d05b64",
   "metadata": {},
   "outputs": [
    {
     "data": {
      "text/plain": [
       "1.0"
      ]
     },
     "execution_count": 146,
     "metadata": {},
     "output_type": "execute_result"
    }
   ],
   "source": [
    "(\n",
    "    orders\n",
    "    .loc[:,['ship_date','order_date','order_id']]\n",
    "    .groupby('order_id')\n",
    "    .max()\n",
    "    .assign(ship_date = lambda x: pd.to_datetime(x.ship_date))\n",
    "    .assign(order_date = lambda x: pd.to_datetime(x.order_date))\n",
    "    .assign(delta = lambda x: x.ship_date >= x.order_date)\n",
    "    .delta\n",
    "    \n",
    ").sum() / orders.order_id.nunique()"
   ]
  },
  {
   "cell_type": "markdown",
   "id": "e7b4c454-aa82-40dd-be77-ef20f47694f8",
   "metadata": {},
   "source": [
    "## Expectativas"
   ]
  },
  {
   "cell_type": "markdown",
   "id": "7f874d58-1fc0-479c-8d77-a8ad6596a15a",
   "metadata": {},
   "source": [
    "1. 99.9% da base 'orders' deve ser única\n",
    "2. 'order_id' em 'returns' deve ser único\n",
    "3. 'order_id' em 'returns' deve existir em 'orders'\n",
    "4. 'sales' em orders deve ser maior que zero\n",
    "5. 'quantity' em orders deve ser maior que zero\n",
    "6. "
   ]
  }
 ],
 "metadata": {
  "kernelspec": {
   "display_name": "Python 3 (ipykernel)",
   "language": "python",
   "name": "python3"
  },
  "language_info": {
   "codemirror_mode": {
    "name": "ipython",
    "version": 3
   },
   "file_extension": ".py",
   "mimetype": "text/x-python",
   "name": "python",
   "nbconvert_exporter": "python",
   "pygments_lexer": "ipython3",
   "version": "3.10.13"
  }
 },
 "nbformat": 4,
 "nbformat_minor": 5
}
